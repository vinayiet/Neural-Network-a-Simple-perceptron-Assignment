{
 "cells": [
  {
   "cell_type": "code",
   "execution_count": 3,
   "id": "249089fa-0185-49fa-b02c-b3ca23571b77",
   "metadata": {},
   "outputs": [
    {
     "name": "stdout",
     "output_type": "stream",
     "text": [
      "[0 1 2 3 4 5]\n",
      "int32\n"
     ]
    }
   ],
   "source": [
    "# Create a numpy Array 'arr' of integers from 0 to 5 and print its data type.\n",
    "\n",
    "import numpy as np\n",
    "\n",
    "arr = np.arange(6)\n",
    "\n",
    "print(arr)\n",
    "print(arr.dtype)"
   ]
  },
  {
   "cell_type": "code",
   "execution_count": 4,
   "id": "3108a182-0473-4d72-9f5c-625ec1834a25",
   "metadata": {},
   "outputs": [
    {
     "name": "stdout",
     "output_type": "stream",
     "text": [
      "float64\n"
     ]
    }
   ],
   "source": [
    "# Given a NumPy array 'arr', check if its data type is float64.\n",
    "arr = np.array([1.5, 2.6, 3.7])\n",
    "print(arr.dtype)"
   ]
  },
  {
   "cell_type": "code",
   "execution_count": 8,
   "id": "588ee6c7-198e-4911-9584-a43e7424b583",
   "metadata": {},
   "outputs": [
    {
     "name": "stdout",
     "output_type": "stream",
     "text": [
      "[3.+4.j 4.+3.j 2.+2.j]\n",
      "complex128\n"
     ]
    }
   ],
   "source": [
    "# 3. Create a NumPy array 'arr' with a data type of complex128 containing three complex numbers.\n",
    "import numpy as np \n",
    "\n",
    "arr = np.array([3+4j, 4+3j, 2+2j], dtype = np.complex128)\n",
    "print(arr)\n",
    "print(arr.dtype)"
   ]
  },
  {
   "cell_type": "code",
   "execution_count": 10,
   "id": "c19e3737-6b28-48e1-8484-38d8281a73f9",
   "metadata": {},
   "outputs": [
    {
     "name": "stdout",
     "output_type": "stream",
     "text": [
      "float32\n"
     ]
    }
   ],
   "source": [
    "# 4. Convert an existing NumPy array 'arr' of integers to float32 data type.\n",
    "# We can convert the existing dtype of array to float using dtype = np.float32\n",
    "arr = np.array([1,2,3], dtype = np.float32)\n",
    "print(arr.dtype)"
   ]
  },
  {
   "cell_type": "code",
   "execution_count": null,
   "id": "f5848bc0-72ee-4c16-b9e3-488b35597d2b",
   "metadata": {},
   "outputs": [],
   "source": [
    "#  Given a NumPy array 'arr' with float64 data type, convert it to float32 to reduce decimal precision"
   ]
  },
  {
   "cell_type": "code",
   "execution_count": 14,
   "id": "535a8f42-2112-4e59-aa6a-65c1a080abf8",
   "metadata": {},
   "outputs": [
    {
     "name": "stdout",
     "output_type": "stream",
     "text": [
      "Shape: (2, 3)\n",
      "Size: 6\n",
      "Data type: int32\n"
     ]
    }
   ],
   "source": [
    "# 6. Write a function array_attributes that takes a NumPy array as input and returns its shape, size, and data\n",
    "import numpy as np\n",
    "\n",
    "def array_attributes(arr):\n",
    "    print(\"Shape:\", arr.shape)\n",
    "    print(\"Size:\", arr.size)\n",
    "    print(\"Data type:\", arr.dtype)\n",
    "\n",
    "# Corrected array creation\n",
    "arr = np.array([[1, 2, 3], [4, 5, 6]])\n",
    "array_attributes(arr)\n"
   ]
  },
  {
   "cell_type": "code",
   "execution_count": 16,
   "id": "005ea625-b6f8-46a2-bdaa-6030a30a6324",
   "metadata": {},
   "outputs": [
    {
     "name": "stdout",
     "output_type": "stream",
     "text": [
      "2\n"
     ]
    }
   ],
   "source": [
    "# Create a function array_dimension that takes a NumPy array as input and returns its dimensionality.\n",
    "def array_dimensions(arr):\n",
    "    print(arr.ndim)\n",
    "arr = np.array([[1, 2, 3], [4, 5, 6]])\n",
    "array_dimensions(arr)"
   ]
  },
  {
   "cell_type": "code",
   "execution_count": 18,
   "id": "9303928a-4196-4883-b04b-c4e5f78aba96",
   "metadata": {},
   "outputs": [
    {
     "name": "stdout",
     "output_type": "stream",
     "text": [
      "(12, 4)\n"
     ]
    }
   ],
   "source": [
    "# 9. Create a function array_strides that takes a NumPy array as input and returns the strides of the array.\n",
    "def array_strides(arr):\n",
    "    print(arr.strides)\n",
    "arr = np.array([[1, 2, 3], [4, 5, 6]])\n",
    "array_strides(arr)"
   ]
  },
  {
   "cell_type": "code",
   "execution_count": 1,
   "id": "6ba516a8-8f89-4c65-87ea-6af64df78b33",
   "metadata": {},
   "outputs": [
    {
     "name": "stdout",
     "output_type": "stream",
     "text": [
      "((2, 3), (12, 4))\n"
     ]
    }
   ],
   "source": [
    "# 10. Design a function shape_stride_relationship that takes a NumPy array as input and returns the shape\n",
    "# and strides of the array.\n",
    "import numpy as np\n",
    "\n",
    "def shape_stride_relationship(arr: np.ndarray):\n",
    "    \"\"\"\n",
    "    Returns the shape and strides of a given NumPy array.\n",
    "    \n",
    "    Parameters:\n",
    "        arr (np.ndarray): Input NumPy array.\n",
    "        \n",
    "    Returns:\n",
    "        tuple: A tuple containing the shape and strides of the array.\n",
    "    \"\"\"\n",
    "    return arr.shape, arr.strides\n",
    "\n",
    "# Example usage:\n",
    "arr = np.array([[1, 2, 3], [4, 5, 6]])\n",
    "print(shape_stride_relationship(arr))\n"
   ]
  },
  {
   "cell_type": "code",
   "execution_count": 3,
   "id": "683778f8-1962-4d0b-88d4-493f3a5396e5",
   "metadata": {},
   "outputs": [
    {
     "name": "stdout",
     "output_type": "stream",
     "text": [
      "((2, 3), (12, 4))\n"
     ]
    }
   ],
   "source": [
    "# Create a function `create_zeros_array` that takes an integer `n` as input and returns a NumPy array of\n",
    "# zeros with `n` elements.\n",
    "import numpy as np\n",
    "\n",
    "def shape_stride_relationship(arr: np.ndarray):\n",
    "    \"\"\"\n",
    "    Returns the shape and strides of a given NumPy array.\n",
    "    \n",
    "    Parameters:\n",
    "        arr (np.ndarray): Input NumPy array.\n",
    "        \n",
    "    Returns:\n",
    "        tuple: A tuple containing the shape and strides of the array.\n",
    "    \"\"\"\n",
    "    return arr.shape, arr.strides\n",
    "\n",
    "def create_zeros_array(n: int):\n",
    "    \"\"\"\n",
    "    Creates a NumPy array of zeros with n elements.\n",
    "    \n",
    "    Parameters:\n",
    "        n (int): Number of elements in the array.\n",
    "        \n",
    "    Returns:\n",
    "        np.ndarray: A NumPy array of zeros.\n",
    "    \"\"\"\n",
    "    return np.zeros(n)\n",
    "\n",
    "# Example usage:\n",
    "arr = np.array([[1, 2, 3], [4, 5, 6]])\n",
    "print(shape_stride_relationship(arr))\n",
    "#"
   ]
  },
  {
   "cell_type": "code",
   "execution_count": 4,
   "id": "fe3c65fc-0e51-4e6c-ba02-06f04466f976",
   "metadata": {},
   "outputs": [
    {
     "name": "stdout",
     "output_type": "stream",
     "text": [
      "((2, 3), (12, 4))\n"
     ]
    }
   ],
   "source": [
    "import numpy as np\n",
    "\n",
    "def shape_stride_relationship(arr: np.ndarray):\n",
    "    \"\"\"\n",
    "    Returns the shape and strides of a given NumPy array.\n",
    "    \n",
    "    Parameters:\n",
    "        arr (np.ndarray): Input NumPy array.\n",
    "        \n",
    "    Returns:\n",
    "        tuple: A tuple containing the shape and strides of the array.\n",
    "    \"\"\"\n",
    "    return arr.shape, arr.strides\n",
    "\n",
    "def create_zeros_array(n: int):\n",
    "    \"\"\"\n",
    "    Creates a NumPy array of zeros with n elements.\n",
    "    \n",
    "    Parameters:\n",
    "        n (int): Number of elements in the array.\n",
    "        \n",
    "    Returns:\n",
    "        np.ndarray: A NumPy array of zeros.\n",
    "    \"\"\"\n",
    "    return np.zeros(n)\n",
    "\n",
    "def create_ones_matrix(rows: int, cols: int):\n",
    "    \"\"\"\n",
    "    Creates a 2D NumPy array filled with ones of size rows x cols.\n",
    "    \n",
    "    Parameters:\n",
    "        rows (int): Number of rows in the matrix.\n",
    "        cols (int): Number of columns in the matrix.\n",
    "        \n",
    "    Returns:\n",
    "        np.ndarray: A NumPy array filled with ones.\n",
    "    \"\"\"\n",
    "    return np.ones((rows, cols))\n",
    "\n",
    "# Example usage:\n",
    "arr = np.array([[1, 2, 3], [4, 5, 6]])\n",
    "print(shape_stride_relationship(arr))\n"
   ]
  },
  {
   "cell_type": "code",
   "execution_count": null,
   "id": "9b2b5206-2e6d-41f1-80c2-1d668563a78e",
   "metadata": {},
   "outputs": [],
   "source": [
    "\n",
    "\n",
    "\n",
    "\n",
    "\n",
    "\n",
    "\n",
    "\n",
    "\n",
    "\n",
    "\n",
    "\n",
    "\n"
   ]
  }
 ],
 "metadata": {
  "kernelspec": {
   "display_name": "Python 3 (ipykernel)",
   "language": "python",
   "name": "python3"
  },
  "language_info": {
   "codemirror_mode": {
    "name": "ipython",
    "version": 3
   },
   "file_extension": ".py",
   "mimetype": "text/x-python",
   "name": "python",
   "nbconvert_exporter": "python",
   "pygments_lexer": "ipython3",
   "version": "3.12.4"
  }
 },
 "nbformat": 4,
 "nbformat_minor": 5
}
